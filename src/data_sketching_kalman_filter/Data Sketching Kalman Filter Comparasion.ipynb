{
 "cells": [
  {
   "cell_type": "code",
   "execution_count": 1,
   "metadata": {},
   "outputs": [],
   "source": [
    "from src.data_sketching_kalman_filter.kalman_filter.full_KF import *\n",
    "from src.data_sketching_kalman_filter.kalman_filter.RS_KF import *\n",
    "from src.data_sketching_kalman_filter.kalman_filter.CoutingSketch_KF import *\n",
    "from src.data_sketching_kalman_filter.kalman_filter.AC_sketching_KF import *"
   ]
  },
  {
   "cell_type": "code",
   "execution_count": 2,
   "metadata": {},
   "outputs": [],
   "source": [
    "# Number of time slot\n",
    "N = 50\n",
    "\n",
    "# Number of observation per time slot\n",
    "# for the convinence of JL transform >_<\n",
    "D = 1500\n",
    "\n",
    "# Number of features\n",
    "p = 50\n",
    "\n",
    "# scaler for covariance matrix of noise vector\n",
    "sigma_w = 0.1\n",
    "sigma_v = 1\n",
    "\n",
    "# initial state vector\n",
    "m0 = np.zeros((p, 1))\n",
    "m0[0] = 20\n",
    "m0[4] = -30\n",
    "\n",
    "# transition matrix\n",
    "F = state_transition_matrix(p)\n",
    "\n",
    "# add the initial state with some noise\n",
    "theta = initial_state(p)\n",
    "\n",
    "# covariance matrix for white noise of state\n",
    "Q = noise_cov(p) * sigma_w ** 2\n",
    "\n",
    "# covariance matrix for white noise of observation\n",
    "R = noise_cov_idp(D) * sigma_v ** 2\n",
    "\n",
    "_,  _, theta_set, X_set, y_set = synthetic_data_generate(N, p, Q, R, F, D, theta)\n"
   ]
  },
  {
   "cell_type": "code",
   "execution_count": 3,
   "metadata": {},
   "outputs": [
    {
     "name": "stdout",
     "output_type": "stream",
     "text": [
      "mse is: 0.8747372293632635 with d/D to be: 0.025\n",
      "mse is: 0.6352378281851117 with d/D to be: 0.05\n",
      "mse is: 0.4580251407188284 with d/D to be: 0.1\n",
      "mse is: 0.39806318097341586 with d/D to be: 0.15\n",
      "mse is: 0.34454355690986527 with d/D to be: 0.2\n",
      "mse is: 0.3224893808332731 with d/D to be: 0.25\n"
     ]
    }
   ],
   "source": [
    "d_per_set = [0.025, 0.05, 0.10, 0.15, 0.2, 0.25]\n",
    "\n",
    "rs_reuslt_dict = {}\n",
    "for d_per in d_per_set:\n",
    "    d = int(d_per * D)\n",
    "    conclusion_set_rt = []\n",
    "    conclusion_set_rmse = []\n",
    "    for mm in range(10):\n",
    "        running_time = []\n",
    "        mse_set = []\n",
    "        P_predict = np.identity(p)\n",
    "        theta_predict = np.zeros((p, 1))\n",
    "        for i in range(N):\n",
    "            kf_begin = time()\n",
    "            theta_predict, P_predict = rs_kf_mse(y_set[i], X_set[i], Q, R, F, theta_predict, P_predict, d,\n",
    "                                                 approx_K=False, sketch_size=0.10, iteration_step=4)\n",
    "            kf_end = time()\n",
    "            rmse = per_RSME(theta_predict, theta_set[i])\n",
    "            mse_set.append(rmse ** 2)\n",
    "            running_time.append(kf_end - kf_begin)\n",
    "\n",
    "        conclusion_set_rt.append(np.mean(running_time))\n",
    "        conclusion_set_rmse.append(np.mean(rmse))\n",
    "\n",
    "    rs_reuslt_dict[d_per] = np.mean(conclusion_set_rmse)\n",
    "    print('mse is:',  np.mean(conclusion_set_rmse), 'with', 'd/D to be:', d_per)"
   ]
  },
  {
   "cell_type": "code",
   "execution_count": 4,
   "metadata": {},
   "outputs": [
    {
     "name": "stdout",
     "output_type": "stream",
     "text": [
      "mse is: 0.8108471212468565 with d/D to be: 0.025\n",
      "mse is: 0.683438134574591 with d/D to be: 0.05\n",
      "mse is: 0.4625836188873068 with d/D to be: 0.1\n",
      "mse is: 0.4174633495317406 with d/D to be: 0.15\n",
      "mse is: 0.3531627848886797 with d/D to be: 0.2\n",
      "mse is: 0.31868594066017353 with d/D to be: 0.25\n"
     ]
    }
   ],
   "source": [
    "ck_reuslt_dict = {}\n",
    "for d_per in d_per_set:\n",
    "    d = int(d_per * D)\n",
    "    conclusion_set_rt = []\n",
    "    conclusion_set_rmse = []\n",
    "    for mm in range(10):\n",
    "        running_time = []\n",
    "        mse_set = []\n",
    "        P_predict = np.identity(p)\n",
    "        theta_predict = np.zeros((p, 1))\n",
    "        for i in range(N):\n",
    "            kf_begin = time()\n",
    "            theta_predict, P_predict = count_kf_mse(y_set[i], X_set[i], Q, R, F, theta_predict, P_predict, d,\n",
    "                                                 approx_K=False, sketch_size=0.10, iteration_step=4)\n",
    "            kf_end = time()\n",
    "            rmse = per_RSME(theta_predict, theta_set[i])\n",
    "            mse_set.append(rmse ** 2)\n",
    "            running_time.append(kf_end - kf_begin)\n",
    "\n",
    "        conclusion_set_rt.append(np.mean(running_time))\n",
    "        conclusion_set_rmse.append(np.mean(rmse))\n",
    "\n",
    "    ck_reuslt_dict[d_per] = np.mean(conclusion_set_rmse)\n",
    "    print('mse is:',  np.mean(conclusion_set_rmse), 'with', 'd/D to be:', d_per)"
   ]
  },
  {
   "cell_type": "code",
   "execution_count": 5,
   "metadata": {},
   "outputs": [
    {
     "name": "stdout",
     "output_type": "stream",
     "text": [
      "mse is: 0.6834576083590701 with d/D to be: 0.02742666666666667 and running time to be: 0.015283097267150879\n",
      "mse is: 0.5147124067675876 with d/D to be: 0.05302666666666667 and running time to be: 0.012692552089691162\n",
      "mse is: 0.36306049961854914 with d/D to be: 0.07994666666666667 and running time to be: 0.013592277526855469\n",
      "mse is: 0.3675425260238897 with d/D to be: 0.12185333333333333 and running time to be: 0.014594399452209472\n",
      "mse is: 0.3178809729934241 with d/D to be: 0.16269333333333333 and running time to be: 0.01713078451156616\n",
      "mse is: 0.2966585327271948 with d/D to be: 0.20837333333333333 and running time to be: 0.018375469207763673\n",
      "mse is: 0.26620538917327036 with d/D to be: 0.27183999999999997 and running time to be: 0.03668361616134644\n",
      "mse is: 0.2589415029393117 with d/D to be: 0.33118666666666663 and running time to be: 0.0339862790107727\n"
     ]
    }
   ],
   "source": [
    "ac_tau_set = [3.5, 2.8, 2.5, 2.2, 2, 1.8, 1.5, 1.2]\n",
    "mu = 0.001\n",
    "ac_reuslt_dict = {}\n",
    "for tau in ac_tau_set:\n",
    "\n",
    "    conclusion_set_rt = []\n",
    "    conclusion_set_rmse = []\n",
    "    running_time = []\n",
    "    for mm in range(10):\n",
    "\n",
    "        mse_set = []\n",
    "        len_s_set = []\n",
    "        P_predict = np.identity(p)\n",
    "        theta_predict = np.zeros((p, 1))\n",
    "        for i in range(N):\n",
    "            kf_begin = time()\n",
    "            theta_predict, P_predict, len_s = ac_kf_mse(y_set[i], X_set[i], Q, R, F, tau, mu, theta_predict, P_predict,\n",
    "                                                   approx_K = False, sketch_size = 0.25, iteration_step = 4)\n",
    "            kf_end = time()\n",
    "            rmse = per_RSME(theta_predict, theta_set[i])\n",
    "            mse_set.append(rmse ** 2)\n",
    "            running_time.append(kf_end - kf_begin)\n",
    "            len_s_set.append(len_s)\n",
    "\n",
    "        conclusion_set_rmse.append(np.mean(rmse))\n",
    "\n",
    "    d_per = np.mean(len_s_set) / D\n",
    "\n",
    "    ac_reuslt_dict[d_per] = np.mean(conclusion_set_rmse)\n",
    "    print('mse is:',  np.mean(conclusion_set_rmse), 'with', 'd/D to be:', np.mean(len_s_set)/D, 'and running time to be:', np.mean(running_time))"
   ]
  },
  {
   "cell_type": "code",
   "execution_count": 6,
   "metadata": {},
   "outputs": [
    {
     "name": "stdout",
     "output_type": "stream",
     "text": [
      "mse is: 0.6502851745274539 with d/D to be: 0.025\n",
      "mse is: 0.20225050306501535 with d/D to be: 0.05\n",
      "mse is: 0.1976145591594649 with d/D to be: 0.1\n",
      "mse is: 0.19583963653916908 with d/D to be: 0.15\n",
      "mse is: 0.20069886912019125 with d/D to be: 0.2\n",
      "mse is: 0.19450311709296308 with d/D to be: 0.25\n"
     ]
    }
   ],
   "source": [
    "kp_reuslt_dict = {}\n",
    "for d_per in d_per_set:\n",
    "    conclusion_set_rt = []\n",
    "    conclusion_set_rmse = []\n",
    "    for mm in range(2):\n",
    "        running_time = []\n",
    "        mse_set = []\n",
    "        P_predict = np.identity(p)\n",
    "        theta_predict = np.zeros((p, 1))\n",
    "        for i in range(N):\n",
    "            kf_begin = time()\n",
    "            theta_predict, P_predict = full_kf_mse(y_set[i], X_set[i], Q, R, F, theta_predict, P_predict,\n",
    "                                                 approx_K=True, sketch_size=d_per, iteration_step=5)\n",
    "            kf_end = time()\n",
    "            rmse = per_RSME(theta_predict, theta_set[i])\n",
    "            mse_set.append(rmse ** 2)\n",
    "            running_time.append(kf_end - kf_begin)\n",
    "\n",
    "        conclusion_set_rt.append(np.mean(running_time))\n",
    "        conclusion_set_rmse.append(np.mean(rmse))\n",
    "\n",
    "    kp_reuslt_dict[d_per] = np.mean(conclusion_set_rmse)\n",
    "    print('mse is:',  np.mean(conclusion_set_rmse), 'with', 'd/D to be:', d_per)"
   ]
  },
  {
   "cell_type": "code",
   "execution_count": 12,
   "metadata": {},
   "outputs": [
    {
     "data": {
      "image/png": "[encoded data removed]",
      "text/plain": [
       "<Figure size 432x288 with 1 Axes>"
      ]
     },
     "metadata": {
      "needs_background": "light"
     },
     "output_type": "display_data"
    }
   ],
   "source": [
    "%matplotlib inline\n",
    "rs_sketching_d = list(rs_reuslt_dict.keys())\n",
    "rs_sketching_rmse = list(rs_reuslt_dict.values())\n",
    "\n",
    "ck_sketching_d = list(ck_reuslt_dict.keys())\n",
    "ck_sketching_rmse = list(ck_reuslt_dict.values())\n",
    "\n",
    "ac_sketching_d = list(ac_reuslt_dict.keys())\n",
    "ac_sketching_rmse = list(ac_reuslt_dict.values())\n",
    "\n",
    "kp_sketching_d = list(kp_reuslt_dict.keys())\n",
    "kp_sketching_rmse = list(kp_reuslt_dict.values())\n",
    "\n",
    "import matplotlib.pyplot as plt\n",
    "plt.plot(ck_sketching_d, ck_sketching_rmse,  marker='o', markerfacecolor='blue', markersize=12, color='skyblue',\n",
    "         linewidth=4, label = 'Count Sketch sketching')\n",
    "plt.plot(ac_sketching_d, ac_sketching_rmse, marker='x', color='red', linewidth=2, label = 'Censoring_based_sketching')\n",
    "plt.plot(kp_sketching_d, kp_sketching_rmse, marker='*', color='orange', linewidth=2, label = 'sketching & Projection')\n",
    "plt.plot(rs_sketching_d, rs_sketching_rmse, marker='_', color='black', linewidth=2, label = 'Random Sampling sketching')\n",
    "plt.xlabel('d/D')\n",
    "plt.ylabel('RMSE')\n",
    "plt.legend()\n",
    "plt.show()"
   ]
  },
  {
   "cell_type": "code",
   "execution_count": 13,
   "metadata": {},
   "outputs": [
    {
     "name": "stdout",
     "output_type": "stream",
     "text": [
      "mse is: 0.19464515365910992 with d/D to be: 0.25\n",
      "average rmse is 5.4633503847349845 for d_per = 0.3 and sketch size = 0.05, running time = 0.013065032958984375\n",
      "average rmse is 0.7867415141169362 for d_per = 0.3 and sketch size = 0.1, running time = 0.01805646896362305\n",
      "average rmse is 0.3357130057143242 for d_per = 0.3 and sketch size = 0.15, running time = 0.03250271797180176\n",
      "average rmse is 0.32505600130150897 for d_per = 0.3 and sketch size = 0.2, running time = 0.04058987617492676\n",
      "average rmse is 0.30813468510894926 for d_per = 0.3 and sketch size = 0.25, running time = 0.05536478042602539\n",
      "average rmse is 2.5131658352557733 for d_per = 0.35 and sketch size = 0.05, running time = 0.02011249542236328\n",
      "average rmse is 0.3248323678766238 for d_per = 0.35 and sketch size = 0.1, running time = 0.02493819236755371\n",
      "average rmse is 0.3037319867112068 for d_per = 0.35 and sketch size = 0.15, running time = 0.032367644309997556\n",
      "average rmse is 0.2957232631603491 for d_per = 0.35 and sketch size = 0.2, running time = 0.05265912055969238\n",
      "average rmse is 0.2859506916699014 for d_per = 0.35 and sketch size = 0.25, running time = 0.061308889389038085\n",
      "average rmse is 2.9641929220105148 for d_per = 0.4 and sketch size = 0.05, running time = 0.01825573921203613\n",
      "average rmse is 0.2977968489864027 for d_per = 0.4 and sketch size = 0.1, running time = 0.025087294578552247\n",
      "average rmse is 0.28470093039618993 for d_per = 0.4 and sketch size = 0.15, running time = 0.04603814125061035\n",
      "average rmse is 0.27790333220583996 for d_per = 0.4 and sketch size = 0.2, running time = 0.06307947158813476\n",
      "average rmse is 0.2767171605762356 for d_per = 0.4 and sketch size = 0.25, running time = 0.0711826467514038\n",
      "average rmse is 1.9951852704736626 for d_per = 0.45 and sketch size = 0.05, running time = 0.0197472620010376\n",
      "average rmse is 0.2963496791947202 for d_per = 0.45 and sketch size = 0.1, running time = 0.028563599586486816\n",
      "average rmse is 0.27472271013987887 for d_per = 0.45 and sketch size = 0.15, running time = 0.05228962898254395\n",
      "average rmse is 0.27177367855406476 for d_per = 0.45 and sketch size = 0.2, running time = 0.07314017772674561\n",
      "average rmse is 0.26289979475458836 for d_per = 0.45 and sketch size = 0.25, running time = 0.08260692596435547\n",
      "average rmse is 2.307520981164169 for d_per = 0.5 and sketch size = 0.05, running time = 0.023475327491760255\n",
      "average rmse is 0.27830856012737326 for d_per = 0.5 and sketch size = 0.1, running time = 0.032662181854248046\n",
      "average rmse is 0.26675167324330723 for d_per = 0.5 and sketch size = 0.15, running time = 0.06120691776275635\n",
      "average rmse is 0.26032874950465884 for d_per = 0.5 and sketch size = 0.2, running time = 0.0763494062423706\n",
      "average rmse is 0.25870914300444825 for d_per = 0.5 and sketch size = 0.25, running time = 0.09609469890594483\n"
     ]
    }
   ],
   "source": [
    "running_time = []\n",
    "mse_set = []\n",
    "P_predict = np.identity(p)\n",
    "theta_predict = np.zeros((p, 1))\n",
    "for i in range(N):\n",
    "    kf_begin = time()\n",
    "    theta_predict, P_predict = full_kf_mse(y_set[i], X_set[i], Q, R, F, theta_predict, P_predict,\n",
    "                                           approx_K=False, sketch_size=d_per, iteration_step=5)\n",
    "    kf_end = time()\n",
    "    rmse = per_RSME(theta_predict, theta_set[i])\n",
    "    mse_set.append(rmse ** 2)\n",
    "    running_time.append(kf_end - kf_begin)\n",
    "\n",
    "conclusion_set_rt.append(np.mean(running_time))\n",
    "conclusion_set_rmse.append(np.mean(rmse))\n",
    "\n",
    "kp_reuslt_dict[d_per] = np.mean(conclusion_set_rmse)\n",
    "print('mse is:', np.mean(conclusion_set_rmse), 'with', 'd/D to be:', d_per)\n",
    "\n",
    "\n",
    "# apply both count sketch and projection & sketch method\n",
    "import pandas as pd\n",
    "import seaborn as sns\n",
    "\n",
    "sketch_size = [0.05, 0.1, 0.15, 0.2, 0.25]\n",
    "d_D = [0.3, 0.35, 0.40, 0.45, 0.5]\n",
    "\n",
    "Index = [str(i) for i in sketch_size]\n",
    "Cols = [str(i) for i in d_D]\n",
    "df = pd.DataFrame(index = Index, columns = Cols)\n",
    "\n",
    "for d_per in d_D:\n",
    "    for s in sketch_size:\n",
    "        d = int(d_per * D)\n",
    "        running_time = []\n",
    "        mse_set = []\n",
    "        P_predict = np.identity(p)\n",
    "        theta_predict = np.zeros((p, 1))\n",
    "        for i in range(N):\n",
    "            kf_begin = time()\n",
    "            theta_predict, P_predict = count_kf_mse(y_set[i], X_set[i], Q, R, F, theta_predict, P_predict, d,\n",
    "                                                 approx_K=True, sketch_size=s, iteration_step=5)\n",
    "            kf_end = time()\n",
    "            rmse = per_RSME(theta_predict, theta_set[i])\n",
    "\n",
    "            running_time.append(kf_end - kf_begin)\n",
    "            mse_set.append(rmse)\n",
    "        mean_run_time = np.mean(running_time)\n",
    "        mean_rmse = np.mean(mse_set)\n",
    "        df.loc[str(s), str(d_per)] = mean_rmse\n",
    "        print('average rmse is {} for d_per = {} and sketch size = {}, running time = {}'.format(mean_rmse, d_per, s, mean_run_time))\n"
   ]
  },
  {
   "cell_type": "code",
   "execution_count": 17,
   "metadata": {},
   "outputs": [
    {
     "data": {
      "image/png": "[encoded data removed]",
      "text/plain": [
       "<Figure size 432x288 with 2 Axes>"
      ]
     },
     "metadata": {
      "needs_background": "light"
     },
     "output_type": "display_data"
    }
   ],
   "source": [
    "%matplotlib inline\n",
    "df = df.apply(pd.to_numeric)\n",
    "sns.heatmap(df, annot=True)\n",
    "plt.xlabel('data sketch size')\n",
    "plt.ylabel('projection sketch size')\n",
    "plt.savefig('skech_sketch.png')\n",
    "plt.show()"
   ]
  },
  {
   "cell_type": "code",
   "execution_count": null,
   "metadata": {},
   "outputs": [],
   "source": []
  }
 ],
 "metadata": {
  "kernelspec": {
   "display_name": "Python 3",
   "language": "python",
   "name": "python3"
  },
  "language_info": {
   "codemirror_mode": {
    "name": "ipython",
    "version": 3
   },
   "file_extension": ".py",
   "mimetype": "text/x-python",
   "name": "python",
   "nbconvert_exporter": "python",
   "pygments_lexer": "ipython3",
   "version": "3.7.1"
  }
 },
 "nbformat": 4,
 "nbformat_minor": 2
}
