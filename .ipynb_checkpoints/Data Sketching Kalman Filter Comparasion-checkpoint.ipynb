{
 "cells": [
  {
   "cell_type": "code",
   "execution_count": 55,
   "metadata": {},
   "outputs": [],
   "source": [
    "import numpy as np\n",
    "import pandas as pd"
   ]
  },
  {
   "cell_type": "code",
   "execution_count": 2,
   "metadata": {},
   "outputs": [],
   "source": [
    "# Number of time slot\n",
    "N = 100\n",
    "\n",
    "# Number of observation per time slot\n",
    "# for the convinence of JL transform >_<\n",
    "D = 512\n",
    "\n",
    "# Number of features \n",
    "p = 30\n",
    "\n",
    "# scaler for covariance matrix of noise vector\n",
    "sigma_w = 0.01\n",
    "sigma_v = 1\n",
    "\n",
    "# initial state vector\n",
    "m0 = np.zeros((p, 1))\n",
    "m0[0] = 20\n",
    "m0[4] = -30"
   ]
  },
  {
   "cell_type": "code",
   "execution_count": 3,
   "metadata": {},
   "outputs": [],
   "source": [
    "from synthetic_data_generation import *\n",
    "\n",
    "# predicted_initial_state_covariance_matrix\n",
    "P_predict = np.identity(p) * 0.04\n",
    "# predicted_initial_state\n",
    "theta_predict = m0\n",
    "\n",
    "# transition matrix\n",
    "F = state_transition_matrix(p)\n",
    "\n",
    "# add the initial state with some noise\n",
    "theta = initial_state(p)\n",
    "\n",
    "# covariance matrix for white noise of state\n",
    "Q = noise_cov(p) * sigma_w ** 2\n",
    "\n",
    "# covariance matrix for white noise of observation\n",
    "R = noise_cov(D) * sigma_v ** 2"
   ]
  },
  {
   "cell_type": "code",
   "execution_count": 71,
   "metadata": {},
   "outputs": [
    {
     "data": {
      "text/plain": [
       "0.08407949028122846"
      ]
     },
     "execution_count": 71,
     "metadata": {},
     "output_type": "execute_result"
    }
   ],
   "source": [
    "#let's first try on the full dataset kalman filter\n",
    "from full_KF import full_kf_mse\n",
    "full_kf_mse(N, D, p, Q, R, F, theta, theta_predict, P_predict, mute_print=True)"
   ]
  },
  {
   "cell_type": "code",
   "execution_count": 5,
   "metadata": {},
   "outputs": [
    {
     "name": "stdout",
     "output_type": "stream",
     "text": [
      "mean sqaure error is 0.7856576942598895\n",
      "mean sqaure error is 0.4459054165163935\n",
      "mean sqaure error is 0.3385700937764565\n",
      "mean sqaure error is 0.292522682816319\n",
      "mean sqaure error is 0.27401767826242446\n",
      "mean sqaure error is 0.229816725682757\n",
      "mean sqaure error is 0.24517015745759552\n",
      "mean sqaure error is 0.2510061391023154\n",
      "mean sqaure error is 0.1974636314738822\n",
      "mean sqaure error is 0.18943146213553866\n"
     ]
    },
    {
     "data": {
      "text/plain": [
       "0.36635760526712796"
      ]
     },
     "execution_count": 5,
     "metadata": {},
     "output_type": "execute_result"
    }
   ],
   "source": [
    "# and also the random sampling kalman filter\n",
    "from RS_KF import rs_kf_mse\n",
    "# we set reduced size to 10% of original \n",
    "d = 50\n",
    "rs_kf_mse(10, D, p, Q, R, F, theta, theta_predict, P_predict, d)"
   ]
  },
  {
   "cell_type": "code",
   "execution_count": 7,
   "metadata": {},
   "outputs": [
    {
     "name": "stdout",
     "output_type": "stream",
     "text": [
      "relative estimation error is 0.7083389105570449\n",
      "relative estimation error is 0.5925662036812307\n",
      "relative estimation error is 0.421382527848552\n",
      "relative estimation error is 0.33006191280604796\n",
      "relative estimation error is 0.27805410249763335\n",
      "relative estimation error is 0.27248494966650055\n",
      "relative estimation error is 0.26038584647461177\n",
      "relative estimation error is 0.23780911641123353\n",
      "relative estimation error is 0.2442929277497474\n",
      "relative estimation error is 0.21423001382658619\n",
      "relative estimation error is 0.22806865461791576\n",
      "relative estimation error is 0.23882280367230216\n",
      "relative estimation error is 0.24244580900600035\n",
      "relative estimation error is 0.23525995267991542\n",
      "relative estimation error is 0.21254041660992395\n",
      "relative estimation error is 0.19823124557915328\n",
      "relative estimation error is 0.1840985836334464\n",
      "relative estimation error is 0.1906727433254687\n",
      "relative estimation error is 0.19261079972062625\n",
      "relative estimation error is 0.1769158340846716\n"
     ]
    },
    {
     "data": {
      "text/plain": [
       "0.3136213384706609"
      ]
     },
     "execution_count": 7,
     "metadata": {},
     "output_type": "execute_result"
    }
   ],
   "source": [
    "# then let's try on the kalman filter with JL transform sketching\n",
    "from RP_sketching_KF import rp_kf_mse\n",
    "# we set reduced size to 10% of original \n",
    "d = 50\n",
    "rp_kf_mse(20, D, p, Q, R, F, theta, theta_predict, P_predict, d)"
   ]
  },
  {
   "cell_type": "code",
   "execution_count": 8,
   "metadata": {},
   "outputs": [
    {
     "name": "stdout",
     "output_type": "stream",
     "text": [
      "mean sqaure error is 0.4847258651213283, redcued dimension is 88\n",
      "mean sqaure error is 0.3303430595510818, redcued dimension is 78\n",
      "mean sqaure error is 0.2888022188970313, redcued dimension is 80\n",
      "mean sqaure error is 0.24284514115330108, redcued dimension is 108\n",
      "mean sqaure error is 0.20896285107033655, redcued dimension is 91\n",
      "mean sqaure error is 0.2145696795431463, redcued dimension is 65\n",
      "mean sqaure error is 0.1984323161366764, redcued dimension is 97\n",
      "mean sqaure error is 0.20874264546674803, redcued dimension is 111\n",
      "mean sqaure error is 0.17753083755943277, redcued dimension is 88\n",
      "mean sqaure error is 0.161384810964018, redcued dimension is 94\n",
      "mean sqaure error is 0.16765182254825298, redcued dimension is 72\n",
      "mean sqaure error is 0.18575145383523234, redcued dimension is 88\n",
      "mean sqaure error is 0.17765438691607044, redcued dimension is 104\n",
      "mean sqaure error is 0.15511627012282736, redcued dimension is 86\n",
      "mean sqaure error is 0.1470745515943442, redcued dimension is 86\n",
      "mean sqaure error is 0.15946244503478077, redcued dimension is 81\n",
      "mean sqaure error is 0.18419569191121718, redcued dimension is 76\n",
      "mean sqaure error is 0.19847161471997304, redcued dimension is 78\n",
      "mean sqaure error is 0.20825458077468326, redcued dimension is 118\n",
      "mean sqaure error is 0.17956037037461586, redcued dimension is 108\n"
     ]
    },
    {
     "data": {
      "text/plain": [
       "(0.22703589355042775, 108.0)"
      ]
     },
     "execution_count": 8,
     "metadata": {},
     "output_type": "execute_result"
    }
   ],
   "source": [
    "# have a look at the kalman filter with censoring base\n",
    "from AC_sketching_KF import ac_sketching_mse\n",
    "# update selection needs to fine tune two parameters to get the reduced dimension\n",
    "tau = 1\n",
    "mu = 0.001\n",
    "\n",
    "ac_sketching_mse(20, D, p, Q, R, F, theta, theta_predict, P_predict, tau, mu)"
   ]
  },
  {
   "cell_type": "code",
   "execution_count": 9,
   "metadata": {},
   "outputs": [
    {
     "name": "stdout",
     "output_type": "stream",
     "text": [
      "mean sqaure error is 0.2838293344310958, redcued dimension is 98\n",
      "mean sqaure error is 0.25098782687504445, redcued dimension is 41\n",
      "mean sqaure error is 0.1871386014607654, redcued dimension is 44\n",
      "mean sqaure error is 0.1905612226344527, redcued dimension is 34\n",
      "mean sqaure error is 0.22758995108142677, redcued dimension is 28\n",
      "mean sqaure error is 0.16162626664372998, redcued dimension is 34\n",
      "mean sqaure error is 0.16558188082024047, redcued dimension is 15\n",
      "mean sqaure error is 0.18409640777509417, redcued dimension is 16\n",
      "mean sqaure error is 0.14538245716960374, redcued dimension is 18\n",
      "mean sqaure error is 0.13115807793960987, redcued dimension is 15\n"
     ]
    },
    {
     "data": {
      "text/plain": [
       "(0.19810502235614008, 34.3)"
      ]
     },
     "execution_count": 9,
     "metadata": {},
     "output_type": "execute_result"
    }
   ],
   "source": [
    "# finally, let's have a look at the kalman filter with update selection\n",
    "from US_KF import us_kf_mse\n",
    "# sketching parameter\n",
    "tau_us = 100\n",
    "\n",
    "us_kf_mse(10, D, p, Q, R, F, theta, theta_predict, P_predict, tau_us)"
   ]
  },
  {
   "cell_type": "code",
   "execution_count": 49,
   "metadata": {},
   "outputs": [
    {
     "name": "stdout",
     "output_type": "stream",
     "text": [
      "mse is: 0.16332097583700111 with d/D to be: 0.0325078125\n",
      "mse is: 0.142932554154318 with d/D to be: 0.058441406249999994\n",
      "mse is: 0.12619629308806746 with d/D to be: 0.11064453125\n",
      "mse is: 0.12281121746979777 with d/D to be: 0.13303125\n",
      "mse is: 0.11513317814675425 with d/D to be: 0.16655078125000003\n",
      "mse is: 0.11022680248271728 with d/D to be: 0.23921484375\n"
     ]
    }
   ],
   "source": [
    "# try to compare the performance of different sketching method\n",
    "tau_us_set = [100, 50, 20, 15, 10, 5]\n",
    "us_result_dict = {}\n",
    "for tau_us in tau_us_set:\n",
    "    us_mse_sample = []\n",
    "    us_d_sample = []\n",
    "    for i in range(5):\n",
    "        us_mse, us_d = us_kf_mse(N, D, p, Q, R, F, theta, theta_predict, P_predict, tau_us, mute_print = True)\n",
    "        us_mse_sample.append(us_mse)\n",
    "        us_d_sample.append(us_d)\n",
    "        \n",
    "    mean_us_dD = np.mean(us_d_sample)/D\n",
    "    us_result_dict[mean_us_dD] = np.mean(us_mse_sample)\n",
    "    print('mse is:', np.mean(us_mse_sample), 'with', 'd/D to be:', mean_us_dD)"
   ]
  },
  {
   "cell_type": "code",
   "execution_count": 48,
   "metadata": {},
   "outputs": [
    {
     "name": "stdout",
     "output_type": "stream",
     "text": [
      "mse is: 0.3244901569312032 with d/D to be: 0.07578125\n",
      "mse is: 0.23131652236370712 with d/D to be: 0.1078125\n",
      "mse is: 0.1834742496195006 with d/D to be: 0.15859375\n",
      "mse is: 0.16981588305178408 with d/D to be: 0.17109375\n",
      "mse is: 0.1553985436742616 with d/D to be: 0.205859375\n",
      "mse is: 0.1217912220467714 with d/D to be: 0.305859375\n"
     ]
    }
   ],
   "source": [
    "ac_tau_set = [1.5, 1.2, 1, 0.9, 0.8, 0.5]\n",
    "mu = 0.0001\n",
    "ac_result_dict = {}\n",
    "for ac_tau in ac_tau_set:\n",
    "    ac_mse_sample = []\n",
    "    ac_d_sample = []\n",
    "    for i in range(5):\n",
    "        ac_mse, ac_d  = ac_sketching_mse(N, D, p, Q, R, F, theta, theta_predict, P_predict, ac_tau, mu, mute_print = True)\n",
    "        ac_mse_sample.append(ac_mse)\n",
    "        ac_d_sample.append(ac_d)\n",
    "        \n",
    "    mean_ac_dD = np.mean(ac_d_sample)/D\n",
    "    ac_result_dict[mean_ac_dD] = np.mean(ac_mse_sample)\n",
    "    print('mse is:', np.mean(ac_mse_sample), 'with', 'd/D to be:', mean_ac_dD)"
   ]
  },
  {
   "cell_type": "code",
   "execution_count": 51,
   "metadata": {},
   "outputs": [
    {
     "name": "stdout",
     "output_type": "stream",
     "text": [
      "mse is: 0.2726318282539967 with d/D to be: 0.048828125\n",
      "mse is: 0.21263535712941795 with d/D to be: 0.09765625\n",
      "mse is: 0.18550611569858205 with d/D to be: 0.13671875\n",
      "mse is: 0.16778876786358107 with d/D to be: 0.1953125\n",
      "mse is: 0.15155716894732146 with d/D to be: 0.244140625\n"
     ]
    }
   ],
   "source": [
    "d_set = [25, 50, 70, 100, 125]\n",
    "rp_reuslt_dict = {}\n",
    "for d in d_set:\n",
    "    rp_mse_sample = []\n",
    "    rp_d_sample = []\n",
    "    for i in range(5):\n",
    "        rp_mse = rp_kf_mse(N, D, p, Q, R, F, theta, theta_predict, P_predict, d, mute_print = True)\n",
    "        rp_mse_sample.append(rp_mse)\n",
    "\n",
    "    rp_dD = d/D\n",
    "    rp_reuslt_dict[rp_dD] = np.mean(rp_mse_sample)\n",
    "    print('mse is:', np.mean(rp_mse_sample), 'with', 'd/D to be:', rp_dD)"
   ]
  },
  {
   "cell_type": "code",
   "execution_count": 52,
   "metadata": {},
   "outputs": [
    {
     "name": "stdout",
     "output_type": "stream",
     "text": [
      "mse is: 0.2887919451056927 with d/D to be: 0.048828125\n",
      "mse is: 0.211928616515577 with d/D to be: 0.09765625\n",
      "mse is: 0.1965078631260015 with d/D to be: 0.13671875\n",
      "mse is: 0.1694434382913602 with d/D to be: 0.1953125\n",
      "mse is: 0.15276074125587685 with d/D to be: 0.244140625\n"
     ]
    }
   ],
   "source": [
    "rs_result_dict = {}\n",
    "for d in d_set:\n",
    "    rs_mse_sample = []\n",
    "    for i in range(5):\n",
    "        rs_mse = rs_kf_mse(N, D, p, Q, R, F, theta, theta_predict, P_predict, d, mute_print = True)\n",
    "        rs_mse_sample.append(rs_mse)\n",
    "\n",
    "    rs_dD = d/D\n",
    "    rs_result_dict[rs_dD] = np.mean(rs_mse_sample)\n",
    "    print('mse is:', np.mean(rs_mse_sample), 'with', 'd/D to be:', rs_dD)"
   ]
  },
  {
   "cell_type": "code",
   "execution_count": null,
   "metadata": {},
   "outputs": [],
   "source": []
  },
  {
   "cell_type": "code",
   "execution_count": 68,
   "metadata": {},
   "outputs": [],
   "source": [
    "rs_sketching_d = list(rs_result_dict.keys())\n",
    "rs_sketching_rmse = list(rs_result_dict.values())\n",
    "\n",
    "rp_sketching_d = list(rp_reuslt_dict.keys())\n",
    "rp_sketching_rmse = list(rp_reuslt_dict.values())\n",
    "\n",
    "ac_sketching_d = list(ac_result_dict.keys())\n",
    "ac_sketching_rmse = list(ac_result_dict.values())\n",
    "\n",
    "us_sketching_d = list(us_result_dict.keys())\n",
    "us_sketching_rmse = list(us_result_dict.values())"
   ]
  },
  {
   "cell_type": "code",
   "execution_count": 69,
   "metadata": {},
   "outputs": [
    {
     "data": {
      "image/png": "[encoded data removed]",
      "text/plain": [
       "<Figure size 432x288 with 1 Axes>"
      ]
     },
     "metadata": {
      "needs_background": "light"
     },
     "output_type": "display_data"
    }
   ],
   "source": [
    "import matplotlib.pyplot as plt\n",
    "plt.plot(rp_sketching_d, rp_sketching_rmse,  marker='o', markerfacecolor='blue', markersize=12, color='skyblue',\n",
    "         linewidth=4, label = 'JL Transformation sketching')\n",
    "plt.plot(ac_sketching_d, ac_sketching_rmse, marker='x', color='red', linewidth=2, label = 'Censoring_based_sketching')\n",
    "plt.plot(us_sketching_d, us_sketching_rmse, marker='*', color='orange', linewidth=2, label = 'Update selection_sketching')\n",
    "plt.plot(rs_sketching_d, rs_sketching_rmse, marker='_', color='black', linewidth=2, label = 'Random Sampling sketching')\n",
    "plt.xlabel('d/D')\n",
    "plt.ylabel('RMSE')\n",
    "plt.legend()\n",
    "plt.savefig('img1.png')\n",
    "plt.show()\n",
    "# notice that the RMSE for full data kalman filter is around 0.085"
   ]
  }
 ],
 "metadata": {
  "kernelspec": {
   "display_name": "Python 3",
   "language": "python",
   "name": "python3"
  },
  "language_info": {
   "codemirror_mode": {
    "name": "ipython",
    "version": 3
   },
   "file_extension": ".py",
   "mimetype": "text/x-python",
   "name": "python",
   "nbconvert_exporter": "python",
   "pygments_lexer": "ipython3",
   "version": "3.7.1"
  }
 },
 "nbformat": 4,
 "nbformat_minor": 2
}
